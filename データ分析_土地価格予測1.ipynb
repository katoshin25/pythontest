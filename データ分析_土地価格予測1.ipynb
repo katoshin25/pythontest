{
 "cells": [
  {
   "cell_type": "code",
   "execution_count": 24,
   "metadata": {},
   "outputs": [],
   "source": [
    "import numpy as np\n",
    "import pandas as pd\n",
    "from matplotlib import pyplot as plt\n",
    "from sklearn.utils.testing import all_estimators\n",
    "from sklearn.metrics import  r2_score\n",
    "from sklearn.preprocessing import StandardScaler\n",
    "from sklearn.model_selection import train_test_split\n",
    "%matplotlib inline"
   ]
  },
  {
   "cell_type": "markdown",
   "metadata": {},
   "source": [
    "# signate 飯田産業 土地の販売価格の推定 コンペ"
   ]
  },
  {
   "cell_type": "code",
   "execution_count": 3,
   "metadata": {},
   "outputs": [],
   "source": [
    "#データ読み込み\n",
    "train_genba= pd.read_csv( 'train_genba.tsv', delimiter='\\t' )\n",
    "train_goto= pd.read_csv( 'train_goto.tsv', delimiter='\\t' )\n",
    "test_genba= pd.read_csv( 'test_genba.tsv', delimiter='\\t' )\n",
    "test_goto= pd.read_csv( 'test_goto.tsv', delimiter='\\t' )"
   ]
  },
  {
   "cell_type": "code",
   "execution_count": 4,
   "metadata": {},
   "outputs": [
    {
     "data": {
      "text/html": [
       "<div>\n",
       "<style scoped>\n",
       "    .dataframe tbody tr th:only-of-type {\n",
       "        vertical-align: middle;\n",
       "    }\n",
       "\n",
       "    .dataframe tbody tr th {\n",
       "        vertical-align: top;\n",
       "    }\n",
       "\n",
       "    .dataframe thead th {\n",
       "        text-align: right;\n",
       "    }\n",
       "</style>\n",
       "<table border=\"1\" class=\"dataframe\">\n",
       "  <thead>\n",
       "    <tr style=\"text-align: right;\">\n",
       "      <th></th>\n",
       "      <th>pj_no</th>\n",
       "      <th>jukyo</th>\n",
       "      <th>chiseki_js_hb</th>\n",
       "      <th>chiseki_kb_hb</th>\n",
       "      <th>yoto1</th>\n",
       "      <th>yoto2</th>\n",
       "      <th>kempei1</th>\n",
       "      <th>kempei2</th>\n",
       "      <th>yoseki1</th>\n",
       "      <th>yoseki2</th>\n",
       "      <th>...</th>\n",
       "      <th>bas_toho1</th>\n",
       "      <th>eki_kyori1</th>\n",
       "      <th>bastei_nm1</th>\n",
       "      <th>teiho1</th>\n",
       "      <th>rosen_nm2</th>\n",
       "      <th>eki_nm2</th>\n",
       "      <th>bas_toho2</th>\n",
       "      <th>eki_kyori2</th>\n",
       "      <th>bastei_nm2</th>\n",
       "      <th>teiho2</th>\n",
       "    </tr>\n",
       "  </thead>\n",
       "  <tbody>\n",
       "    <tr>\n",
       "      <th>0</th>\n",
       "      <td>0</td>\n",
       "      <td>埼玉県朝霞市泉水</td>\n",
       "      <td>109.26</td>\n",
       "      <td>109.10</td>\n",
       "      <td>工業地域</td>\n",
       "      <td>NaN</td>\n",
       "      <td>60</td>\n",
       "      <td>0.0</td>\n",
       "      <td>200</td>\n",
       "      <td>0.0</td>\n",
       "      <td>...</td>\n",
       "      <td>徒歩</td>\n",
       "      <td>17</td>\n",
       "      <td>NaN</td>\n",
       "      <td>NaN</td>\n",
       "      <td>NaN</td>\n",
       "      <td>NaN</td>\n",
       "      <td>NaN</td>\n",
       "      <td>NaN</td>\n",
       "      <td>NaN</td>\n",
       "      <td>NaN</td>\n",
       "    </tr>\n",
       "    <tr>\n",
       "      <th>1</th>\n",
       "      <td>1</td>\n",
       "      <td>埼玉県川越市大字的場</td>\n",
       "      <td>136.15</td>\n",
       "      <td>136.00</td>\n",
       "      <td>第一種低層住居専用地域</td>\n",
       "      <td>NaN</td>\n",
       "      <td>60</td>\n",
       "      <td>0.0</td>\n",
       "      <td>200</td>\n",
       "      <td>0.0</td>\n",
       "      <td>...</td>\n",
       "      <td>徒歩</td>\n",
       "      <td>13</td>\n",
       "      <td>NaN</td>\n",
       "      <td>NaN</td>\n",
       "      <td>NaN</td>\n",
       "      <td>NaN</td>\n",
       "      <td>NaN</td>\n",
       "      <td>NaN</td>\n",
       "      <td>NaN</td>\n",
       "      <td>NaN</td>\n",
       "    </tr>\n",
       "    <tr>\n",
       "      <th>2</th>\n",
       "      <td>2</td>\n",
       "      <td>埼玉県川口市安行原</td>\n",
       "      <td>86.92</td>\n",
       "      <td>86.52</td>\n",
       "      <td>第一種低層住居専用地域</td>\n",
       "      <td>NaN</td>\n",
       "      <td>50</td>\n",
       "      <td>0.0</td>\n",
       "      <td>100</td>\n",
       "      <td>0.0</td>\n",
       "      <td>...</td>\n",
       "      <td>徒歩</td>\n",
       "      <td>27</td>\n",
       "      <td>NaN</td>\n",
       "      <td>NaN</td>\n",
       "      <td>NaN</td>\n",
       "      <td>NaN</td>\n",
       "      <td>NaN</td>\n",
       "      <td>NaN</td>\n",
       "      <td>NaN</td>\n",
       "      <td>NaN</td>\n",
       "    </tr>\n",
       "    <tr>\n",
       "      <th>3</th>\n",
       "      <td>3</td>\n",
       "      <td>埼玉県草加市松江</td>\n",
       "      <td>164.91</td>\n",
       "      <td>164.07</td>\n",
       "      <td>工業地域</td>\n",
       "      <td>NaN</td>\n",
       "      <td>60</td>\n",
       "      <td>0.0</td>\n",
       "      <td>200</td>\n",
       "      <td>0.0</td>\n",
       "      <td>...</td>\n",
       "      <td>徒歩</td>\n",
       "      <td>18</td>\n",
       "      <td>NaN</td>\n",
       "      <td>NaN</td>\n",
       "      <td>NaN</td>\n",
       "      <td>NaN</td>\n",
       "      <td>NaN</td>\n",
       "      <td>NaN</td>\n",
       "      <td>NaN</td>\n",
       "      <td>NaN</td>\n",
       "    </tr>\n",
       "    <tr>\n",
       "      <th>4</th>\n",
       "      <td>4</td>\n",
       "      <td>埼玉県新座市野火止</td>\n",
       "      <td>403.58</td>\n",
       "      <td>403.58</td>\n",
       "      <td>第一種低層住居専用地域</td>\n",
       "      <td>NaN</td>\n",
       "      <td>50</td>\n",
       "      <td>0.0</td>\n",
       "      <td>80</td>\n",
       "      <td>0.0</td>\n",
       "      <td>...</td>\n",
       "      <td>徒歩</td>\n",
       "      <td>7</td>\n",
       "      <td>NaN</td>\n",
       "      <td>NaN</td>\n",
       "      <td>NaN</td>\n",
       "      <td>NaN</td>\n",
       "      <td>NaN</td>\n",
       "      <td>NaN</td>\n",
       "      <td>NaN</td>\n",
       "      <td>NaN</td>\n",
       "    </tr>\n",
       "  </tbody>\n",
       "</table>\n",
       "<p>5 rows × 140 columns</p>\n",
       "</div>"
      ],
      "text/plain": [
       "   pj_no       jukyo  chiseki_js_hb  chiseki_kb_hb        yoto1 yoto2  \\\n",
       "0      0    埼玉県朝霞市泉水         109.26         109.10         工業地域   NaN   \n",
       "1      1  埼玉県川越市大字的場         136.15         136.00  第一種低層住居専用地域   NaN   \n",
       "2      2   埼玉県川口市安行原          86.92          86.52  第一種低層住居専用地域   NaN   \n",
       "3      3    埼玉県草加市松江         164.91         164.07         工業地域   NaN   \n",
       "4      4   埼玉県新座市野火止         403.58         403.58  第一種低層住居専用地域   NaN   \n",
       "\n",
       "   kempei1  kempei2  yoseki1  yoseki2  ... bas_toho1 eki_kyori1 bastei_nm1  \\\n",
       "0       60      0.0      200      0.0  ...        徒歩         17        NaN   \n",
       "1       60      0.0      200      0.0  ...        徒歩         13        NaN   \n",
       "2       50      0.0      100      0.0  ...        徒歩         27        NaN   \n",
       "3       60      0.0      200      0.0  ...        徒歩         18        NaN   \n",
       "4       50      0.0       80      0.0  ...        徒歩          7        NaN   \n",
       "\n",
       "  teiho1  rosen_nm2  eki_nm2  bas_toho2  eki_kyori2  bastei_nm2  teiho2  \n",
       "0    NaN        NaN      NaN        NaN         NaN         NaN     NaN  \n",
       "1    NaN        NaN      NaN        NaN         NaN         NaN     NaN  \n",
       "2    NaN        NaN      NaN        NaN         NaN         NaN     NaN  \n",
       "3    NaN        NaN      NaN        NaN         NaN         NaN     NaN  \n",
       "4    NaN        NaN      NaN        NaN         NaN         NaN     NaN  \n",
       "\n",
       "[5 rows x 140 columns]"
      ]
     },
     "execution_count": 4,
     "metadata": {},
     "output_type": "execute_result"
    }
   ],
   "source": [
    "train_genba.head(5)"
   ]
  },
  {
   "cell_type": "code",
   "execution_count": 166,
   "metadata": {},
   "outputs": [
    {
     "data": {
      "text/plain": [
       "count    2781.000000\n",
       "mean       15.227976\n",
       "std         7.234546\n",
       "min         1.000000\n",
       "25%        10.000000\n",
       "50%        14.000000\n",
       "75%        19.000000\n",
       "max        90.000000\n",
       "Name: eki_kyori1, dtype: float64"
      ]
     },
     "execution_count": 166,
     "metadata": {},
     "output_type": "execute_result"
    }
   ],
   "source": [
    "train_genba[\"eki_kyori1\"].describe()"
   ]
  },
  {
   "cell_type": "code",
   "execution_count": 5,
   "metadata": {},
   "outputs": [],
   "source": [
    "#最寄駅までの時間をカテゴリ化\n",
    "eki_kyori_bins = [0,5,10,15,20,25,30,100]\n",
    "group_names = [\"A\", \"B\", \"C\", \"D\",\"E\",\"F\",\"G\"]"
   ]
  },
  {
   "cell_type": "code",
   "execution_count": 6,
   "metadata": {},
   "outputs": [],
   "source": [
    "eki_kyori_cut_data= pd.cut(train_genba.eki_kyori1,eki_kyori_bins,labels= group_names)\n",
    "eki_kyori_cut_data2= pd.cut(test_genba.eki_kyori1,eki_kyori_bins,labels= group_names)"
   ]
  },
  {
   "cell_type": "code",
   "execution_count": 7,
   "metadata": {},
   "outputs": [
    {
     "data": {
      "text/plain": [
       "C    823\n",
       "B    664\n",
       "D    589\n",
       "E    338\n",
       "A    152\n",
       "F    142\n",
       "G     73\n",
       "Name: eki_kyori1, dtype: int64"
      ]
     },
     "execution_count": 7,
     "metadata": {},
     "output_type": "execute_result"
    }
   ],
   "source": [
    "pd.value_counts(eki_kyori_cut_data)"
   ]
  },
  {
   "cell_type": "code",
   "execution_count": 8,
   "metadata": {},
   "outputs": [],
   "source": [
    "train_genba[\"rank\"] = eki_kyori_cut_data\n",
    "test_genba[\"rank\"] =eki_kyori_cut_data2"
   ]
  },
  {
   "cell_type": "code",
   "execution_count": 9,
   "metadata": {},
   "outputs": [],
   "source": [
    "train_genba[\"toho\"] = train_genba['bas_toho1'].str.cat(train_genba['rank'])\n",
    "test_genba[\"toho\"] = test_genba['bas_toho1'].str.cat(test_genba['rank'])\n",
    "\n"
   ]
  },
  {
   "cell_type": "code",
   "execution_count": 11,
   "metadata": {},
   "outputs": [],
   "source": [
    "#特徴量選択\n",
    "df = train_genba[[\"pj_no\",\"yoto1\",\"hw_status\",\"toshikuiki1\",\"koji_hb\",\"sho_super\",\"toho\"]]\n",
    "tdf=test_genba[[\"pj_no\",\"yoto1\",\"hw_status\",\"toshikuiki1\",\"koji_hb\",\"sho_super\",\"toho\"]]\n",
    "df2 = train_goto[[\"pj_no\",\"keiyaku_pr\",\"hiatari\",\"tc_mseki\",\"levelplan\",\"kobetsu1\"]]\n",
    "tdf2 = test_goto[[\"pj_no\",\"hiatari\",\"tc_mseki\",\"levelplan\",\"kobetsu1\"]]\n",
    "df = pd.merge(df2,df,on=\"pj_no\")\n",
    "tdf =pd.merge(tdf2,tdf,on=\"pj_no\")\n",
    "df[\"tf\"]=0\n",
    "tdf[\"tf\"]=1\n",
    "all_data = df.append(tdf)\n"
   ]
  },
  {
   "cell_type": "code",
   "execution_count": 12,
   "metadata": {},
   "outputs": [],
   "source": [
    "#0,1に変換\n",
    "df=df.fillna(0)\n",
    "df= df.replace('○', 1)\n",
    "tdf=df.fillna(0)\n",
    "tdf= df.replace('○', 1)"
   ]
  },
  {
   "cell_type": "markdown",
   "metadata": {},
   "source": [
    "# 最寄りの駅からの近さで統計量出す\n",
    "## 交通の便が良さそうな所は平均価格も高くなる"
   ]
  },
  {
   "cell_type": "code",
   "execution_count": 14,
   "metadata": {},
   "outputs": [
    {
     "data": {
      "text/html": [
       "<div>\n",
       "<style scoped>\n",
       "    .dataframe tbody tr th:only-of-type {\n",
       "        vertical-align: middle;\n",
       "    }\n",
       "\n",
       "    .dataframe tbody tr th {\n",
       "        vertical-align: top;\n",
       "    }\n",
       "\n",
       "    .dataframe thead tr th {\n",
       "        text-align: left;\n",
       "    }\n",
       "\n",
       "    .dataframe thead tr:last-of-type th {\n",
       "        text-align: right;\n",
       "    }\n",
       "</style>\n",
       "<table border=\"1\" class=\"dataframe\">\n",
       "  <thead>\n",
       "    <tr>\n",
       "      <th></th>\n",
       "      <th colspan=\"8\" halign=\"left\">keiyaku_pr</th>\n",
       "    </tr>\n",
       "    <tr>\n",
       "      <th></th>\n",
       "      <th>count</th>\n",
       "      <th>mean</th>\n",
       "      <th>std</th>\n",
       "      <th>min</th>\n",
       "      <th>25%</th>\n",
       "      <th>50%</th>\n",
       "      <th>75%</th>\n",
       "      <th>max</th>\n",
       "    </tr>\n",
       "    <tr>\n",
       "      <th>toho</th>\n",
       "      <th></th>\n",
       "      <th></th>\n",
       "      <th></th>\n",
       "      <th></th>\n",
       "      <th></th>\n",
       "      <th></th>\n",
       "      <th></th>\n",
       "      <th></th>\n",
       "    </tr>\n",
       "  </thead>\n",
       "  <tbody>\n",
       "    <tr>\n",
       "      <th>バスA</th>\n",
       "      <td>68.0</td>\n",
       "      <td>2.855147e+07</td>\n",
       "      <td>5.328199e+06</td>\n",
       "      <td>15000000.0</td>\n",
       "      <td>24950000.0</td>\n",
       "      <td>28800000.0</td>\n",
       "      <td>31750000.0</td>\n",
       "      <td>40600000.0</td>\n",
       "    </tr>\n",
       "    <tr>\n",
       "      <th>バスB</th>\n",
       "      <td>610.0</td>\n",
       "      <td>2.637146e+07</td>\n",
       "      <td>6.056641e+06</td>\n",
       "      <td>3500000.0</td>\n",
       "      <td>22525000.0</td>\n",
       "      <td>26600000.0</td>\n",
       "      <td>30800000.0</td>\n",
       "      <td>44000000.0</td>\n",
       "    </tr>\n",
       "    <tr>\n",
       "      <th>バスC</th>\n",
       "      <td>396.0</td>\n",
       "      <td>2.693631e+07</td>\n",
       "      <td>5.220897e+06</td>\n",
       "      <td>13200000.0</td>\n",
       "      <td>23300000.0</td>\n",
       "      <td>26500000.0</td>\n",
       "      <td>30500000.0</td>\n",
       "      <td>47980000.0</td>\n",
       "    </tr>\n",
       "    <tr>\n",
       "      <th>バスD</th>\n",
       "      <td>229.0</td>\n",
       "      <td>2.613139e+07</td>\n",
       "      <td>5.035966e+06</td>\n",
       "      <td>7900000.0</td>\n",
       "      <td>22800000.0</td>\n",
       "      <td>26000000.0</td>\n",
       "      <td>29800000.0</td>\n",
       "      <td>39800000.0</td>\n",
       "    </tr>\n",
       "    <tr>\n",
       "      <th>バスE</th>\n",
       "      <td>63.0</td>\n",
       "      <td>2.326016e+07</td>\n",
       "      <td>4.724193e+06</td>\n",
       "      <td>13800000.0</td>\n",
       "      <td>20150000.0</td>\n",
       "      <td>23500000.0</td>\n",
       "      <td>25800000.0</td>\n",
       "      <td>35000000.0</td>\n",
       "    </tr>\n",
       "    <tr>\n",
       "      <th>バスF</th>\n",
       "      <td>15.0</td>\n",
       "      <td>2.259080e+07</td>\n",
       "      <td>6.816156e+06</td>\n",
       "      <td>7200000.0</td>\n",
       "      <td>22000000.0</td>\n",
       "      <td>24000000.0</td>\n",
       "      <td>26600000.0</td>\n",
       "      <td>31100000.0</td>\n",
       "    </tr>\n",
       "    <tr>\n",
       "      <th>バスG</th>\n",
       "      <td>10.0</td>\n",
       "      <td>2.046000e+07</td>\n",
       "      <td>4.155639e+06</td>\n",
       "      <td>14300000.0</td>\n",
       "      <td>18050000.0</td>\n",
       "      <td>20300000.0</td>\n",
       "      <td>22500000.0</td>\n",
       "      <td>29200000.0</td>\n",
       "    </tr>\n",
       "    <tr>\n",
       "      <th>徒歩A</th>\n",
       "      <td>282.0</td>\n",
       "      <td>3.034153e+07</td>\n",
       "      <td>8.737436e+06</td>\n",
       "      <td>11800000.0</td>\n",
       "      <td>23575000.0</td>\n",
       "      <td>28850000.0</td>\n",
       "      <td>36800000.0</td>\n",
       "      <td>58900000.0</td>\n",
       "    </tr>\n",
       "    <tr>\n",
       "      <th>徒歩B</th>\n",
       "      <td>888.0</td>\n",
       "      <td>3.015834e+07</td>\n",
       "      <td>7.884726e+06</td>\n",
       "      <td>13100000.0</td>\n",
       "      <td>24000000.0</td>\n",
       "      <td>29800000.0</td>\n",
       "      <td>35541000.0</td>\n",
       "      <td>57500000.0</td>\n",
       "    </tr>\n",
       "    <tr>\n",
       "      <th>徒歩C</th>\n",
       "      <td>1502.0</td>\n",
       "      <td>2.851100e+07</td>\n",
       "      <td>7.448397e+06</td>\n",
       "      <td>2800000.0</td>\n",
       "      <td>23800000.0</td>\n",
       "      <td>27707000.0</td>\n",
       "      <td>32725000.0</td>\n",
       "      <td>62800000.0</td>\n",
       "    </tr>\n",
       "    <tr>\n",
       "      <th>徒歩D</th>\n",
       "      <td>1118.0</td>\n",
       "      <td>2.820875e+07</td>\n",
       "      <td>6.178388e+06</td>\n",
       "      <td>3600000.0</td>\n",
       "      <td>24000000.0</td>\n",
       "      <td>27800000.0</td>\n",
       "      <td>32075000.0</td>\n",
       "      <td>52980000.0</td>\n",
       "    </tr>\n",
       "    <tr>\n",
       "      <th>徒歩E</th>\n",
       "      <td>705.0</td>\n",
       "      <td>2.635198e+07</td>\n",
       "      <td>6.108670e+06</td>\n",
       "      <td>3000000.0</td>\n",
       "      <td>22500000.0</td>\n",
       "      <td>26000000.0</td>\n",
       "      <td>30000000.0</td>\n",
       "      <td>60980000.0</td>\n",
       "    </tr>\n",
       "    <tr>\n",
       "      <th>徒歩F</th>\n",
       "      <td>354.0</td>\n",
       "      <td>2.648731e+07</td>\n",
       "      <td>5.139199e+06</td>\n",
       "      <td>16400000.0</td>\n",
       "      <td>22900000.0</td>\n",
       "      <td>26000000.0</td>\n",
       "      <td>29272500.0</td>\n",
       "      <td>41300000.0</td>\n",
       "    </tr>\n",
       "    <tr>\n",
       "      <th>徒歩G</th>\n",
       "      <td>153.0</td>\n",
       "      <td>2.488876e+07</td>\n",
       "      <td>5.275768e+06</td>\n",
       "      <td>13800000.0</td>\n",
       "      <td>21800000.0</td>\n",
       "      <td>24800000.0</td>\n",
       "      <td>28500000.0</td>\n",
       "      <td>39900000.0</td>\n",
       "    </tr>\n",
       "    <tr>\n",
       "      <th>車A</th>\n",
       "      <td>11.0</td>\n",
       "      <td>2.004545e+07</td>\n",
       "      <td>2.391386e+06</td>\n",
       "      <td>17300000.0</td>\n",
       "      <td>18300000.0</td>\n",
       "      <td>19000000.0</td>\n",
       "      <td>20950000.0</td>\n",
       "      <td>24500000.0</td>\n",
       "    </tr>\n",
       "    <tr>\n",
       "      <th>車B</th>\n",
       "      <td>40.0</td>\n",
       "      <td>2.524425e+07</td>\n",
       "      <td>4.514631e+06</td>\n",
       "      <td>11990000.0</td>\n",
       "      <td>22950000.0</td>\n",
       "      <td>24895000.0</td>\n",
       "      <td>27850000.0</td>\n",
       "      <td>36800000.0</td>\n",
       "    </tr>\n",
       "    <tr>\n",
       "      <th>車C</th>\n",
       "      <td>10.0</td>\n",
       "      <td>2.365000e+07</td>\n",
       "      <td>4.451279e+06</td>\n",
       "      <td>17000000.0</td>\n",
       "      <td>22000000.0</td>\n",
       "      <td>22650000.0</td>\n",
       "      <td>25175000.0</td>\n",
       "      <td>33500000.0</td>\n",
       "    </tr>\n",
       "    <tr>\n",
       "      <th>車D</th>\n",
       "      <td>2.0</td>\n",
       "      <td>2.075000e+07</td>\n",
       "      <td>1.060660e+06</td>\n",
       "      <td>20000000.0</td>\n",
       "      <td>20375000.0</td>\n",
       "      <td>20750000.0</td>\n",
       "      <td>21125000.0</td>\n",
       "      <td>21500000.0</td>\n",
       "    </tr>\n",
       "    <tr>\n",
       "      <th>車E</th>\n",
       "      <td>5.0</td>\n",
       "      <td>1.988000e+07</td>\n",
       "      <td>2.519325e+06</td>\n",
       "      <td>16000000.0</td>\n",
       "      <td>18900000.0</td>\n",
       "      <td>20500000.0</td>\n",
       "      <td>22000000.0</td>\n",
       "      <td>22000000.0</td>\n",
       "    </tr>\n",
       "  </tbody>\n",
       "</table>\n",
       "</div>"
      ],
      "text/plain": [
       "     keiyaku_pr                                                      \\\n",
       "          count          mean           std         min         25%   \n",
       "toho                                                                  \n",
       "バスA        68.0  2.855147e+07  5.328199e+06  15000000.0  24950000.0   \n",
       "バスB       610.0  2.637146e+07  6.056641e+06   3500000.0  22525000.0   \n",
       "バスC       396.0  2.693631e+07  5.220897e+06  13200000.0  23300000.0   \n",
       "バスD       229.0  2.613139e+07  5.035966e+06   7900000.0  22800000.0   \n",
       "バスE        63.0  2.326016e+07  4.724193e+06  13800000.0  20150000.0   \n",
       "バスF        15.0  2.259080e+07  6.816156e+06   7200000.0  22000000.0   \n",
       "バスG        10.0  2.046000e+07  4.155639e+06  14300000.0  18050000.0   \n",
       "徒歩A       282.0  3.034153e+07  8.737436e+06  11800000.0  23575000.0   \n",
       "徒歩B       888.0  3.015834e+07  7.884726e+06  13100000.0  24000000.0   \n",
       "徒歩C      1502.0  2.851100e+07  7.448397e+06   2800000.0  23800000.0   \n",
       "徒歩D      1118.0  2.820875e+07  6.178388e+06   3600000.0  24000000.0   \n",
       "徒歩E       705.0  2.635198e+07  6.108670e+06   3000000.0  22500000.0   \n",
       "徒歩F       354.0  2.648731e+07  5.139199e+06  16400000.0  22900000.0   \n",
       "徒歩G       153.0  2.488876e+07  5.275768e+06  13800000.0  21800000.0   \n",
       "車A         11.0  2.004545e+07  2.391386e+06  17300000.0  18300000.0   \n",
       "車B         40.0  2.524425e+07  4.514631e+06  11990000.0  22950000.0   \n",
       "車C         10.0  2.365000e+07  4.451279e+06  17000000.0  22000000.0   \n",
       "車D          2.0  2.075000e+07  1.060660e+06  20000000.0  20375000.0   \n",
       "車E          5.0  1.988000e+07  2.519325e+06  16000000.0  18900000.0   \n",
       "\n",
       "                                          \n",
       "             50%         75%         max  \n",
       "toho                                      \n",
       "バスA   28800000.0  31750000.0  40600000.0  \n",
       "バスB   26600000.0  30800000.0  44000000.0  \n",
       "バスC   26500000.0  30500000.0  47980000.0  \n",
       "バスD   26000000.0  29800000.0  39800000.0  \n",
       "バスE   23500000.0  25800000.0  35000000.0  \n",
       "バスF   24000000.0  26600000.0  31100000.0  \n",
       "バスG   20300000.0  22500000.0  29200000.0  \n",
       "徒歩A   28850000.0  36800000.0  58900000.0  \n",
       "徒歩B   29800000.0  35541000.0  57500000.0  \n",
       "徒歩C   27707000.0  32725000.0  62800000.0  \n",
       "徒歩D   27800000.0  32075000.0  52980000.0  \n",
       "徒歩E   26000000.0  30000000.0  60980000.0  \n",
       "徒歩F   26000000.0  29272500.0  41300000.0  \n",
       "徒歩G   24800000.0  28500000.0  39900000.0  \n",
       "車A    19000000.0  20950000.0  24500000.0  \n",
       "車B    24895000.0  27850000.0  36800000.0  \n",
       "車C    22650000.0  25175000.0  33500000.0  \n",
       "車D    20750000.0  21125000.0  21500000.0  \n",
       "車E    20500000.0  22000000.0  22000000.0  "
      ]
     },
     "execution_count": 14,
     "metadata": {},
     "output_type": "execute_result"
    }
   ],
   "source": [
    "kakaku = df.filter(items=[\"toho\",\"keiyaku_pr\"]).groupby(\"toho\").describe()\n",
    "kakaku"
   ]
  },
  {
   "cell_type": "code",
   "execution_count": 15,
   "metadata": {},
   "outputs": [
    {
     "data": {
      "text/plain": [
       "<matplotlib.axes._subplots.AxesSubplot at 0x1a23031898>"
      ]
     },
     "execution_count": 15,
     "metadata": {},
     "output_type": "execute_result"
    },
    {
     "data": {
      "image/png": "[encoded data removed]",
      "text/plain": [
       "<Figure size 1040x800 with 1 Axes>"
      ]
     },
     "metadata": {
      "needs_background": "light"
     },
     "output_type": "display_data"
    }
   ],
   "source": [
    "import seaborn as sns\n",
    "plt.figure(figsize=(13,10),dpi=80)\n",
    "sns.violinplot(x=\"yoto1\",y=\"keiyaku_pr\",data=df,scale=\"width\",inner=\"quartile\")\n",
    "#grid = sns.FacetGrid(df,hue=\"gas\",size=10)\n",
    "#grid.map(plt.scatter,\"gas\",\"keiyaku_pr\")\n",
    "#plt.show()\n",
    "#kakaku = df.filter(items=[\"gas\",\"keiyaku_pr\"]).groupby(\"gas\").describe()\n",
    "#kakaku"
   ]
  },
  {
   "cell_type": "code",
   "execution_count": 16,
   "metadata": {},
   "outputs": [
    {
     "data": {
      "text/html": [
       "<div>\n",
       "<style scoped>\n",
       "    .dataframe tbody tr th:only-of-type {\n",
       "        vertical-align: middle;\n",
       "    }\n",
       "\n",
       "    .dataframe tbody tr th {\n",
       "        vertical-align: top;\n",
       "    }\n",
       "\n",
       "    .dataframe thead th {\n",
       "        text-align: right;\n",
       "    }\n",
       "</style>\n",
       "<table border=\"1\" class=\"dataframe\">\n",
       "  <thead>\n",
       "    <tr style=\"text-align: right;\">\n",
       "      <th></th>\n",
       "      <th>keiyaku_pr</th>\n",
       "      <th>koji_hb</th>\n",
       "      <th>pj_no</th>\n",
       "      <th>tc_mseki</th>\n",
       "      <th>tf</th>\n",
       "      <th>hiatari_悪い</th>\n",
       "      <th>hiatari_普通</th>\n",
       "      <th>hiatari_良い</th>\n",
       "      <th>hw_status_その他</th>\n",
       "      <th>hw_status_山林</th>\n",
       "      <th>...</th>\n",
       "      <th>yoto1_指定のない区域</th>\n",
       "      <th>yoto1_準住居地域</th>\n",
       "      <th>yoto1_準工業地域</th>\n",
       "      <th>yoto1_第一種中高層住居専用地域</th>\n",
       "      <th>yoto1_第一種低層住居専用地域</th>\n",
       "      <th>yoto1_第一種住居地域</th>\n",
       "      <th>yoto1_第二種中高層住居専用地域</th>\n",
       "      <th>yoto1_第二種低層住居専用地域</th>\n",
       "      <th>yoto1_第二種住居地域</th>\n",
       "      <th>yoto1_近隣商業地域</th>\n",
       "    </tr>\n",
       "  </thead>\n",
       "  <tbody>\n",
       "    <tr>\n",
       "      <th>0</th>\n",
       "      <td>39800000.0</td>\n",
       "      <td>188000</td>\n",
       "      <td>0</td>\n",
       "      <td>109.26</td>\n",
       "      <td>0</td>\n",
       "      <td>0</td>\n",
       "      <td>1</td>\n",
       "      <td>0</td>\n",
       "      <td>0</td>\n",
       "      <td>0</td>\n",
       "      <td>...</td>\n",
       "      <td>0</td>\n",
       "      <td>0</td>\n",
       "      <td>0</td>\n",
       "      <td>0</td>\n",
       "      <td>0</td>\n",
       "      <td>0</td>\n",
       "      <td>0</td>\n",
       "      <td>0</td>\n",
       "      <td>0</td>\n",
       "      <td>0</td>\n",
       "    </tr>\n",
       "    <tr>\n",
       "      <th>1</th>\n",
       "      <td>22300000.0</td>\n",
       "      <td>84900</td>\n",
       "      <td>1</td>\n",
       "      <td>136.11</td>\n",
       "      <td>0</td>\n",
       "      <td>0</td>\n",
       "      <td>1</td>\n",
       "      <td>0</td>\n",
       "      <td>0</td>\n",
       "      <td>0</td>\n",
       "      <td>...</td>\n",
       "      <td>0</td>\n",
       "      <td>0</td>\n",
       "      <td>0</td>\n",
       "      <td>0</td>\n",
       "      <td>1</td>\n",
       "      <td>0</td>\n",
       "      <td>0</td>\n",
       "      <td>0</td>\n",
       "      <td>0</td>\n",
       "      <td>0</td>\n",
       "    </tr>\n",
       "    <tr>\n",
       "      <th>2</th>\n",
       "      <td>19800000.0</td>\n",
       "      <td>116000</td>\n",
       "      <td>2</td>\n",
       "      <td>87.07</td>\n",
       "      <td>0</td>\n",
       "      <td>0</td>\n",
       "      <td>1</td>\n",
       "      <td>0</td>\n",
       "      <td>0</td>\n",
       "      <td>0</td>\n",
       "      <td>...</td>\n",
       "      <td>0</td>\n",
       "      <td>0</td>\n",
       "      <td>0</td>\n",
       "      <td>0</td>\n",
       "      <td>1</td>\n",
       "      <td>0</td>\n",
       "      <td>0</td>\n",
       "      <td>0</td>\n",
       "      <td>0</td>\n",
       "      <td>0</td>\n",
       "    </tr>\n",
       "    <tr>\n",
       "      <th>3</th>\n",
       "      <td>33990000.0</td>\n",
       "      <td>122000</td>\n",
       "      <td>3</td>\n",
       "      <td>163.75</td>\n",
       "      <td>0</td>\n",
       "      <td>0</td>\n",
       "      <td>0</td>\n",
       "      <td>1</td>\n",
       "      <td>0</td>\n",
       "      <td>0</td>\n",
       "      <td>...</td>\n",
       "      <td>0</td>\n",
       "      <td>0</td>\n",
       "      <td>0</td>\n",
       "      <td>0</td>\n",
       "      <td>0</td>\n",
       "      <td>0</td>\n",
       "      <td>0</td>\n",
       "      <td>0</td>\n",
       "      <td>0</td>\n",
       "      <td>0</td>\n",
       "    </tr>\n",
       "    <tr>\n",
       "      <th>4</th>\n",
       "      <td>30800000.0</td>\n",
       "      <td>179000</td>\n",
       "      <td>4</td>\n",
       "      <td>111.51</td>\n",
       "      <td>0</td>\n",
       "      <td>0</td>\n",
       "      <td>1</td>\n",
       "      <td>0</td>\n",
       "      <td>0</td>\n",
       "      <td>0</td>\n",
       "      <td>...</td>\n",
       "      <td>0</td>\n",
       "      <td>0</td>\n",
       "      <td>0</td>\n",
       "      <td>0</td>\n",
       "      <td>1</td>\n",
       "      <td>0</td>\n",
       "      <td>0</td>\n",
       "      <td>0</td>\n",
       "      <td>0</td>\n",
       "      <td>0</td>\n",
       "    </tr>\n",
       "  </tbody>\n",
       "</table>\n",
       "<p>5 rows × 105 columns</p>\n",
       "</div>"
      ],
      "text/plain": [
       "   keiyaku_pr  koji_hb  pj_no  tc_mseki  tf  hiatari_悪い  hiatari_普通  \\\n",
       "0  39800000.0   188000      0    109.26   0           0           1   \n",
       "1  22300000.0    84900      1    136.11   0           0           1   \n",
       "2  19800000.0   116000      2     87.07   0           0           1   \n",
       "3  33990000.0   122000      3    163.75   0           0           0   \n",
       "4  30800000.0   179000      4    111.51   0           0           1   \n",
       "\n",
       "   hiatari_良い  hw_status_その他  hw_status_山林  ...  yoto1_指定のない区域  yoto1_準住居地域  \\\n",
       "0           0              0             0  ...              0            0   \n",
       "1           0              0             0  ...              0            0   \n",
       "2           0              0             0  ...              0            0   \n",
       "3           1              0             0  ...              0            0   \n",
       "4           0              0             0  ...              0            0   \n",
       "\n",
       "   yoto1_準工業地域  yoto1_第一種中高層住居専用地域  yoto1_第一種低層住居専用地域  yoto1_第一種住居地域  \\\n",
       "0            0                   0                  0              0   \n",
       "1            0                   0                  1              0   \n",
       "2            0                   0                  1              0   \n",
       "3            0                   0                  0              0   \n",
       "4            0                   0                  1              0   \n",
       "\n",
       "   yoto1_第二種中高層住居専用地域  yoto1_第二種低層住居専用地域  yoto1_第二種住居地域  yoto1_近隣商業地域  \n",
       "0                   0                  0              0             0  \n",
       "1                   0                  0              0             0  \n",
       "2                   0                  0              0             0  \n",
       "3                   0                  0              0             0  \n",
       "4                   0                  0              0             0  \n",
       "\n",
       "[5 rows x 105 columns]"
      ]
     },
     "execution_count": 16,
     "metadata": {},
     "output_type": "execute_result"
    }
   ],
   "source": [
    "#ダミー変数化\n",
    "all_data2=pd.get_dummies(all_data)\n",
    "all_data2.head()"
   ]
  },
  {
   "cell_type": "code",
   "execution_count": 17,
   "metadata": {},
   "outputs": [],
   "source": [
    "train = all_data2[all_data2[\"tf\"]==0]\n",
    "test = all_data2[all_data2[\"tf\"]==1]\n",
    "\n"
   ]
  },
  {
   "cell_type": "code",
   "execution_count": 18,
   "metadata": {},
   "outputs": [
    {
     "data": {
      "text/plain": [
       "(array([  4.,   2.,   6.,  11.,  15.,  32.,  94., 245., 426., 553., 754.,\n",
       "        882., 757., 721., 535., 452., 324., 225., 144., 100.,  66.,  41.,\n",
       "         17.,  10.,  14.,  12.,   8.,   3.,   4.,   4.]),\n",
       " array([ 2800000.,  4800000.,  6800000.,  8800000., 10800000., 12800000.,\n",
       "        14800000., 16800000., 18800000., 20800000., 22800000., 24800000.,\n",
       "        26800000., 28800000., 30800000., 32800000., 34800000., 36800000.,\n",
       "        38800000., 40800000., 42800000., 44800000., 46800000., 48800000.,\n",
       "        50800000., 52800000., 54800000., 56800000., 58800000., 60800000.,\n",
       "        62800000.]),\n",
       " <a list of 30 Patch objects>)"
      ]
     },
     "execution_count": 18,
     "metadata": {},
     "output_type": "execute_result"
    },
    {
     "data": {
      "image/png": "[encoded data removed]",
      "text/plain": [
       "<Figure size 864x576 with 1 Axes>"
      ]
     },
     "metadata": {
      "needs_background": "light"
     },
     "output_type": "display_data"
    }
   ],
   "source": [
    "#販売価格のヒスト\n",
    "plt.figure(figsize=(12, 8))\n",
    "plt.hist(train[\"keiyaku_pr\"],bins=30)"
   ]
  },
  {
   "cell_type": "code",
   "execution_count": 20,
   "metadata": {},
   "outputs": [
    {
     "data": {
      "text/plain": [
       "(array([4.000e+00, 8.700e+01, 2.350e+02, 1.361e+03, 1.726e+03, 1.294e+03,\n",
       "        7.110e+02, 3.790e+02, 2.470e+02, 1.330e+02, 3.600e+01, 1.900e+01,\n",
       "        2.000e+01, 9.500e+01, 3.400e+01, 2.800e+01, 1.600e+01, 1.800e+01,\n",
       "        8.000e+00, 2.000e+00, 2.000e+00, 3.000e+00, 0.000e+00, 1.000e+00,\n",
       "        0.000e+00, 1.000e+00, 0.000e+00, 0.000e+00, 0.000e+00, 1.000e+00]),\n",
       " array([ 28.2       ,  48.72633333,  69.25266667,  89.779     ,\n",
       "        110.30533333, 130.83166667, 151.358     , 171.88433333,\n",
       "        192.41066667, 212.937     , 233.46333333, 253.98966667,\n",
       "        274.516     , 295.04233333, 315.56866667, 336.095     ,\n",
       "        356.62133333, 377.14766667, 397.674     , 418.20033333,\n",
       "        438.72666667, 459.253     , 479.77933333, 500.30566667,\n",
       "        520.832     , 541.35833333, 561.88466667, 582.411     ,\n",
       "        602.93733333, 623.46366667, 643.99      ]),\n",
       " <a list of 30 Patch objects>)"
      ]
     },
     "execution_count": 20,
     "metadata": {},
     "output_type": "execute_result"
    },
    {
     "data": {
      "image/png": "[encoded data removed]",
      "text/plain": [
       "<Figure size 864x576 with 1 Axes>"
      ]
     },
     "metadata": {
      "needs_background": "light"
     },
     "output_type": "display_data"
    }
   ],
   "source": [
    "#土地面積のヒスト\n",
    "plt.figure(figsize=(12, 8))\n",
    "plt.hist(train[\"tc_mseki\"],bins=30)"
   ]
  },
  {
   "cell_type": "markdown",
   "metadata": {},
   "source": [
    "# 土地の面積と販売価格は相関があまりない"
   ]
  },
  {
   "cell_type": "code",
   "execution_count": 21,
   "metadata": {},
   "outputs": [
    {
     "data": {
      "text/plain": [
       "<matplotlib.axes._subplots.AxesSubplot at 0x1a2349b4a8>"
      ]
     },
     "execution_count": 21,
     "metadata": {},
     "output_type": "execute_result"
    },
    {
     "data": {
      "image/png": "[encoded data removed]",
      "text/plain": [
       "<Figure size 864x576 with 1 Axes>"
      ]
     },
     "metadata": {
      "needs_background": "light"
     },
     "output_type": "display_data"
    }
   ],
   "source": [
    "#df.info()\n",
    "import seaborn as sns\n",
    "train\n",
    "plt.figure(figsize=(12, 8))\n",
    "sns.regplot(x=\"tc_mseki\", y=\"keiyaku_pr\", data=train)\n",
    "#plt.scatter( train[\"chiseki_js_hb\"],train[\"keiyaku_pr\"])"
   ]
  },
  {
   "cell_type": "markdown",
   "metadata": {},
   "source": [
    "# 公示価格と販売価格の相関"
   ]
  },
  {
   "cell_type": "code",
   "execution_count": 22,
   "metadata": {},
   "outputs": [
    {
     "data": {
      "text/plain": [
       "<matplotlib.axes._subplots.AxesSubplot at 0x1a2450f9b0>"
      ]
     },
     "execution_count": 22,
     "metadata": {},
     "output_type": "execute_result"
    },
    {
     "data": {
      "image/png": "[encoded data removed]",
      "text/plain": [
       "<Figure size 864x576 with 1 Axes>"
      ]
     },
     "metadata": {
      "needs_background": "light"
     },
     "output_type": "display_data"
    }
   ],
   "source": [
    "plt.figure(figsize=(12, 8))\n",
    "sns.regplot(x=\"koji_hb\", y=\"keiyaku_pr\", data=train)"
   ]
  },
  {
   "cell_type": "code",
   "execution_count": 23,
   "metadata": {},
   "outputs": [],
   "source": [
    "\n",
    "import xgboost as xgb\n",
    "from sklearn.model_selection import GridSearchCV\n",
    "from sklearn.metrics import mean_squared_error\n",
    "X = train.drop([\"pj_no\",\"tf\",\"keiyaku_pr\"],1)\n",
    "y = train.keiyaku_pr\n",
    "test= test.drop([\"keiyaku_pr\",\"tf\",\"pj_no\"],1)\n"
   ]
  },
  {
   "cell_type": "code",
   "execution_count": 241,
   "metadata": {},
   "outputs": [
    {
     "name": "stderr",
     "output_type": "stream",
     "text": [
      "/Users/katoushinichi/anaconda3/lib/python3.7/site-packages/sklearn/model_selection/_split.py:2053: FutureWarning: You should specify a value for 'cv' instead of relying on the default value. The default value will change from 3 to 5 in version 0.22.\n",
      "  warnings.warn(CV_WARNING, FutureWarning)\n",
      "[Parallel(n_jobs=1)]: Using backend SequentialBackend with 1 concurrent workers.\n",
      "/Users/katoushinichi/anaconda3/lib/python3.7/site-packages/xgboost/core.py:587: FutureWarning: Series.base is deprecated and will be removed in a future version\n",
      "  if getattr(data, 'base', None) is not None and \\\n"
     ]
    },
    {
     "name": "stdout",
     "output_type": "stream",
     "text": [
      "Fitting 3 folds for each of 9 candidates, totalling 27 fits\n",
      "[00:06:38] WARNING: src/objective/regression_obj.cu:152: reg:linear is now deprecated in favor of reg:squarederror.\n"
     ]
    },
    {
     "name": "stderr",
     "output_type": "stream",
     "text": [
      "/Users/katoushinichi/anaconda3/lib/python3.7/site-packages/xgboost/core.py:587: FutureWarning: Series.base is deprecated and will be removed in a future version\n",
      "  if getattr(data, 'base', None) is not None and \\\n"
     ]
    },
    {
     "name": "stdout",
     "output_type": "stream",
     "text": [
      "[00:06:38] WARNING: src/objective/regression_obj.cu:152: reg:linear is now deprecated in favor of reg:squarederror.\n"
     ]
    },
    {
     "name": "stderr",
     "output_type": "stream",
     "text": [
      "/Users/katoushinichi/anaconda3/lib/python3.7/site-packages/xgboost/core.py:587: FutureWarning: Series.base is deprecated and will be removed in a future version\n",
      "  if getattr(data, 'base', None) is not None and \\\n"
     ]
    },
    {
     "name": "stdout",
     "output_type": "stream",
     "text": [
      "[00:06:39] WARNING: src/objective/regression_obj.cu:152: reg:linear is now deprecated in favor of reg:squarederror.\n"
     ]
    },
    {
     "name": "stderr",
     "output_type": "stream",
     "text": [
      "/Users/katoushinichi/anaconda3/lib/python3.7/site-packages/xgboost/core.py:587: FutureWarning: Series.base is deprecated and will be removed in a future version\n",
      "  if getattr(data, 'base', None) is not None and \\\n"
     ]
    },
    {
     "name": "stdout",
     "output_type": "stream",
     "text": [
      "[00:06:40] WARNING: src/objective/regression_obj.cu:152: reg:linear is now deprecated in favor of reg:squarederror.\n"
     ]
    },
    {
     "name": "stderr",
     "output_type": "stream",
     "text": [
      "/Users/katoushinichi/anaconda3/lib/python3.7/site-packages/xgboost/core.py:587: FutureWarning: Series.base is deprecated and will be removed in a future version\n",
      "  if getattr(data, 'base', None) is not None and \\\n"
     ]
    },
    {
     "name": "stdout",
     "output_type": "stream",
     "text": [
      "[00:06:41] WARNING: src/objective/regression_obj.cu:152: reg:linear is now deprecated in favor of reg:squarederror.\n"
     ]
    },
    {
     "name": "stderr",
     "output_type": "stream",
     "text": [
      "/Users/katoushinichi/anaconda3/lib/python3.7/site-packages/xgboost/core.py:587: FutureWarning: Series.base is deprecated and will be removed in a future version\n",
      "  if getattr(data, 'base', None) is not None and \\\n"
     ]
    },
    {
     "name": "stdout",
     "output_type": "stream",
     "text": [
      "[00:06:42] WARNING: src/objective/regression_obj.cu:152: reg:linear is now deprecated in favor of reg:squarederror.\n"
     ]
    },
    {
     "name": "stderr",
     "output_type": "stream",
     "text": [
      "/Users/katoushinichi/anaconda3/lib/python3.7/site-packages/xgboost/core.py:587: FutureWarning: Series.base is deprecated and will be removed in a future version\n",
      "  if getattr(data, 'base', None) is not None and \\\n"
     ]
    },
    {
     "name": "stdout",
     "output_type": "stream",
     "text": [
      "[00:06:43] WARNING: src/objective/regression_obj.cu:152: reg:linear is now deprecated in favor of reg:squarederror.\n"
     ]
    },
    {
     "name": "stderr",
     "output_type": "stream",
     "text": [
      "/Users/katoushinichi/anaconda3/lib/python3.7/site-packages/xgboost/core.py:587: FutureWarning: Series.base is deprecated and will be removed in a future version\n",
      "  if getattr(data, 'base', None) is not None and \\\n"
     ]
    },
    {
     "name": "stdout",
     "output_type": "stream",
     "text": [
      "[00:06:45] WARNING: src/objective/regression_obj.cu:152: reg:linear is now deprecated in favor of reg:squarederror.\n"
     ]
    },
    {
     "name": "stderr",
     "output_type": "stream",
     "text": [
      "/Users/katoushinichi/anaconda3/lib/python3.7/site-packages/xgboost/core.py:587: FutureWarning: Series.base is deprecated and will be removed in a future version\n",
      "  if getattr(data, 'base', None) is not None and \\\n"
     ]
    },
    {
     "name": "stdout",
     "output_type": "stream",
     "text": [
      "[00:06:47] WARNING: src/objective/regression_obj.cu:152: reg:linear is now deprecated in favor of reg:squarederror.\n"
     ]
    },
    {
     "name": "stderr",
     "output_type": "stream",
     "text": [
      "/Users/katoushinichi/anaconda3/lib/python3.7/site-packages/xgboost/core.py:587: FutureWarning: Series.base is deprecated and will be removed in a future version\n",
      "  if getattr(data, 'base', None) is not None and \\\n"
     ]
    },
    {
     "name": "stdout",
     "output_type": "stream",
     "text": [
      "[00:06:49] WARNING: src/objective/regression_obj.cu:152: reg:linear is now deprecated in favor of reg:squarederror.\n"
     ]
    },
    {
     "name": "stderr",
     "output_type": "stream",
     "text": [
      "/Users/katoushinichi/anaconda3/lib/python3.7/site-packages/xgboost/core.py:587: FutureWarning: Series.base is deprecated and will be removed in a future version\n",
      "  if getattr(data, 'base', None) is not None and \\\n"
     ]
    },
    {
     "name": "stdout",
     "output_type": "stream",
     "text": [
      "[00:06:50] WARNING: src/objective/regression_obj.cu:152: reg:linear is now deprecated in favor of reg:squarederror.\n"
     ]
    },
    {
     "name": "stderr",
     "output_type": "stream",
     "text": [
      "/Users/katoushinichi/anaconda3/lib/python3.7/site-packages/xgboost/core.py:587: FutureWarning: Series.base is deprecated and will be removed in a future version\n",
      "  if getattr(data, 'base', None) is not None and \\\n"
     ]
    },
    {
     "name": "stdout",
     "output_type": "stream",
     "text": [
      "[00:06:50] WARNING: src/objective/regression_obj.cu:152: reg:linear is now deprecated in favor of reg:squarederror.\n"
     ]
    },
    {
     "name": "stderr",
     "output_type": "stream",
     "text": [
      "/Users/katoushinichi/anaconda3/lib/python3.7/site-packages/xgboost/core.py:587: FutureWarning: Series.base is deprecated and will be removed in a future version\n",
      "  if getattr(data, 'base', None) is not None and \\\n"
     ]
    },
    {
     "name": "stdout",
     "output_type": "stream",
     "text": [
      "[00:06:51] WARNING: src/objective/regression_obj.cu:152: reg:linear is now deprecated in favor of reg:squarederror.\n"
     ]
    },
    {
     "name": "stderr",
     "output_type": "stream",
     "text": [
      "/Users/katoushinichi/anaconda3/lib/python3.7/site-packages/xgboost/core.py:587: FutureWarning: Series.base is deprecated and will be removed in a future version\n",
      "  if getattr(data, 'base', None) is not None and \\\n"
     ]
    },
    {
     "name": "stdout",
     "output_type": "stream",
     "text": [
      "[00:06:53] WARNING: src/objective/regression_obj.cu:152: reg:linear is now deprecated in favor of reg:squarederror.\n"
     ]
    },
    {
     "name": "stderr",
     "output_type": "stream",
     "text": [
      "/Users/katoushinichi/anaconda3/lib/python3.7/site-packages/xgboost/core.py:587: FutureWarning: Series.base is deprecated and will be removed in a future version\n",
      "  if getattr(data, 'base', None) is not None and \\\n"
     ]
    },
    {
     "name": "stdout",
     "output_type": "stream",
     "text": [
      "[00:06:54] WARNING: src/objective/regression_obj.cu:152: reg:linear is now deprecated in favor of reg:squarederror.\n"
     ]
    },
    {
     "name": "stderr",
     "output_type": "stream",
     "text": [
      "/Users/katoushinichi/anaconda3/lib/python3.7/site-packages/xgboost/core.py:587: FutureWarning: Series.base is deprecated and will be removed in a future version\n",
      "  if getattr(data, 'base', None) is not None and \\\n"
     ]
    },
    {
     "name": "stdout",
     "output_type": "stream",
     "text": [
      "[00:06:56] WARNING: src/objective/regression_obj.cu:152: reg:linear is now deprecated in favor of reg:squarederror.\n"
     ]
    },
    {
     "name": "stderr",
     "output_type": "stream",
     "text": [
      "/Users/katoushinichi/anaconda3/lib/python3.7/site-packages/xgboost/core.py:587: FutureWarning: Series.base is deprecated and will be removed in a future version\n",
      "  if getattr(data, 'base', None) is not None and \\\n"
     ]
    },
    {
     "name": "stdout",
     "output_type": "stream",
     "text": [
      "[00:06:59] WARNING: src/objective/regression_obj.cu:152: reg:linear is now deprecated in favor of reg:squarederror.\n"
     ]
    },
    {
     "name": "stderr",
     "output_type": "stream",
     "text": [
      "/Users/katoushinichi/anaconda3/lib/python3.7/site-packages/xgboost/core.py:587: FutureWarning: Series.base is deprecated and will be removed in a future version\n",
      "  if getattr(data, 'base', None) is not None and \\\n"
     ]
    },
    {
     "name": "stdout",
     "output_type": "stream",
     "text": [
      "[00:07:02] WARNING: src/objective/regression_obj.cu:152: reg:linear is now deprecated in favor of reg:squarederror.\n"
     ]
    },
    {
     "name": "stderr",
     "output_type": "stream",
     "text": [
      "/Users/katoushinichi/anaconda3/lib/python3.7/site-packages/xgboost/core.py:587: FutureWarning: Series.base is deprecated and will be removed in a future version\n",
      "  if getattr(data, 'base', None) is not None and \\\n"
     ]
    },
    {
     "name": "stdout",
     "output_type": "stream",
     "text": [
      "[00:07:05] WARNING: src/objective/regression_obj.cu:152: reg:linear is now deprecated in favor of reg:squarederror.\n"
     ]
    },
    {
     "name": "stderr",
     "output_type": "stream",
     "text": [
      "/Users/katoushinichi/anaconda3/lib/python3.7/site-packages/xgboost/core.py:587: FutureWarning: Series.base is deprecated and will be removed in a future version\n",
      "  if getattr(data, 'base', None) is not None and \\\n"
     ]
    },
    {
     "name": "stdout",
     "output_type": "stream",
     "text": [
      "[00:07:06] WARNING: src/objective/regression_obj.cu:152: reg:linear is now deprecated in favor of reg:squarederror.\n"
     ]
    },
    {
     "name": "stderr",
     "output_type": "stream",
     "text": [
      "/Users/katoushinichi/anaconda3/lib/python3.7/site-packages/xgboost/core.py:587: FutureWarning: Series.base is deprecated and will be removed in a future version\n",
      "  if getattr(data, 'base', None) is not None and \\\n"
     ]
    },
    {
     "name": "stdout",
     "output_type": "stream",
     "text": [
      "[00:07:07] WARNING: src/objective/regression_obj.cu:152: reg:linear is now deprecated in favor of reg:squarederror.\n"
     ]
    },
    {
     "name": "stderr",
     "output_type": "stream",
     "text": [
      "/Users/katoushinichi/anaconda3/lib/python3.7/site-packages/xgboost/core.py:587: FutureWarning: Series.base is deprecated and will be removed in a future version\n",
      "  if getattr(data, 'base', None) is not None and \\\n"
     ]
    },
    {
     "name": "stdout",
     "output_type": "stream",
     "text": [
      "[00:07:08] WARNING: src/objective/regression_obj.cu:152: reg:linear is now deprecated in favor of reg:squarederror.\n"
     ]
    },
    {
     "name": "stderr",
     "output_type": "stream",
     "text": [
      "/Users/katoushinichi/anaconda3/lib/python3.7/site-packages/xgboost/core.py:587: FutureWarning: Series.base is deprecated and will be removed in a future version\n",
      "  if getattr(data, 'base', None) is not None and \\\n"
     ]
    },
    {
     "name": "stdout",
     "output_type": "stream",
     "text": [
      "[00:07:10] WARNING: src/objective/regression_obj.cu:152: reg:linear is now deprecated in favor of reg:squarederror.\n"
     ]
    },
    {
     "name": "stderr",
     "output_type": "stream",
     "text": [
      "/Users/katoushinichi/anaconda3/lib/python3.7/site-packages/xgboost/core.py:587: FutureWarning: Series.base is deprecated and will be removed in a future version\n",
      "  if getattr(data, 'base', None) is not None and \\\n"
     ]
    },
    {
     "name": "stdout",
     "output_type": "stream",
     "text": [
      "[00:07:12] WARNING: src/objective/regression_obj.cu:152: reg:linear is now deprecated in favor of reg:squarederror.\n"
     ]
    },
    {
     "name": "stderr",
     "output_type": "stream",
     "text": [
      "/Users/katoushinichi/anaconda3/lib/python3.7/site-packages/xgboost/core.py:587: FutureWarning: Series.base is deprecated and will be removed in a future version\n",
      "  if getattr(data, 'base', None) is not None and \\\n"
     ]
    },
    {
     "name": "stdout",
     "output_type": "stream",
     "text": [
      "[00:07:14] WARNING: src/objective/regression_obj.cu:152: reg:linear is now deprecated in favor of reg:squarederror.\n"
     ]
    },
    {
     "name": "stderr",
     "output_type": "stream",
     "text": [
      "/Users/katoushinichi/anaconda3/lib/python3.7/site-packages/xgboost/core.py:587: FutureWarning: Series.base is deprecated and will be removed in a future version\n",
      "  if getattr(data, 'base', None) is not None and \\\n"
     ]
    },
    {
     "name": "stdout",
     "output_type": "stream",
     "text": [
      "[00:07:19] WARNING: src/objective/regression_obj.cu:152: reg:linear is now deprecated in favor of reg:squarederror.\n"
     ]
    },
    {
     "name": "stderr",
     "output_type": "stream",
     "text": [
      "/Users/katoushinichi/anaconda3/lib/python3.7/site-packages/xgboost/core.py:587: FutureWarning: Series.base is deprecated and will be removed in a future version\n",
      "  if getattr(data, 'base', None) is not None and \\\n"
     ]
    },
    {
     "name": "stdout",
     "output_type": "stream",
     "text": [
      "[00:07:23] WARNING: src/objective/regression_obj.cu:152: reg:linear is now deprecated in favor of reg:squarederror.\n"
     ]
    },
    {
     "name": "stderr",
     "output_type": "stream",
     "text": [
      "[Parallel(n_jobs=1)]: Done  27 out of  27 | elapsed:   48.9s finished\n",
      "/Users/katoushinichi/anaconda3/lib/python3.7/site-packages/xgboost/core.py:587: FutureWarning: Series.base is deprecated and will be removed in a future version\n",
      "  if getattr(data, 'base', None) is not None and \\\n",
      "/Users/katoushinichi/anaconda3/lib/python3.7/site-packages/xgboost/core.py:588: FutureWarning: Series.base is deprecated and will be removed in a future version\n",
      "  data.base is not None and isinstance(data, np.ndarray) \\\n"
     ]
    },
    {
     "name": "stdout",
     "output_type": "stream",
     "text": [
      "[00:07:27] WARNING: src/objective/regression_obj.cu:152: reg:linear is now deprecated in favor of reg:squarederror.\n",
      "{'max_depth': 4, 'n_estimators': 200} 0.5731197580770151\n"
     ]
    }
   ],
   "source": [
    "reg = xgb.XGBRegressor()\n",
    "reg_cv = GridSearchCV(reg, {'max_depth': [2,4,6], 'n_estimators': [50,100,200]}, verbose=1)\n",
    "reg_cv.fit(X, y)\n",
    "print (reg_cv.best_params_, reg_cv.best_score_)"
   ]
  },
  {
   "cell_type": "code",
   "execution_count": 242,
   "metadata": {},
   "outputs": [
    {
     "name": "stdout",
     "output_type": "stream",
     "text": [
      "[00:08:29] WARNING: src/objective/regression_obj.cu:152: reg:linear is now deprecated in favor of reg:squarederror.\n"
     ]
    },
    {
     "data": {
      "text/plain": [
       "XGBRegressor(base_score=0.5, booster='gbtree', colsample_bylevel=1,\n",
       "       colsample_bynode=1, colsample_bytree=1, gamma=0,\n",
       "       importance_type='gain', learning_rate=0.1, max_delta_step=0,\n",
       "       max_depth=4, min_child_weight=1, missing=None, n_estimators=200,\n",
       "       n_jobs=1, nthread=None, objective='reg:linear', random_state=0,\n",
       "       reg_alpha=0, reg_lambda=1, scale_pos_weight=1, seed=None,\n",
       "       silent=None, subsample=1, verbosity=1)"
      ]
     },
     "execution_count": 242,
     "metadata": {},
     "output_type": "execute_result"
    }
   ],
   "source": [
    "reg = xgb.XGBRegressor(**reg_cv.best_params_)\n",
    "reg.fit(X, y)"
   ]
  },
  {
   "cell_type": "code",
   "execution_count": 251,
   "metadata": {},
   "outputs": [
    {
     "name": "stderr",
     "output_type": "stream",
     "text": [
      "/Users/katoushinichi/anaconda3/lib/python3.7/site-packages/sklearn/linear_model/coordinate_descent.py:492: ConvergenceWarning: Objective did not converge. You might want to increase the number of iterations. Fitting data with very small alpha may cause precision problems.\n",
      "  ConvergenceWarning)\n"
     ]
    },
    {
     "data": {
      "text/plain": [
       "Lasso(alpha=1.0, copy_X=True, fit_intercept=True, max_iter=1000,\n",
       "   normalize=False, positive=False, precompute=False, random_state=None,\n",
       "   selection='cyclic', tol=0.0001, warm_start=False)"
      ]
     },
     "execution_count": 251,
     "metadata": {},
     "output_type": "execute_result"
    }
   ],
   "source": [
    "#from sklearn import linear_model\n",
    "#clf = linear_model.Lasso()\n",
    "#clf1 = linear_model.Ridge()\n",
    "\n",
    "# 学習\n",
    "#clf.fit(X, y)\n"
   ]
  },
  {
   "cell_type": "code",
   "execution_count": 259,
   "metadata": {},
   "outputs": [
    {
     "name": "stderr",
     "output_type": "stream",
     "text": [
      "/Users/katoushinichi/anaconda3/lib/python3.7/site-packages/sklearn/preprocessing/data.py:645: DataConversionWarning: Data with input dtype uint8, int64, float64 were all converted to float64 by StandardScaler.\n",
      "  return self.partial_fit(X, y)\n",
      "/Users/katoushinichi/anaconda3/lib/python3.7/site-packages/sklearn/base.py:464: DataConversionWarning: Data with input dtype uint8, int64, float64 were all converted to float64 by StandardScaler.\n",
      "  return self.fit(X, **fit_params).transform(X)\n",
      "/Users/katoushinichi/anaconda3/lib/python3.7/site-packages/ipykernel_launcher.py:6: DataConversionWarning: Data with input dtype uint8, int64, float64 were all converted to float64 by StandardScaler.\n",
      "  \n"
     ]
    },
    {
     "data": {
      "text/plain": [
       "SVR(C=1.0, cache_size=200, coef0=0.0, degree=3, epsilon=0.1,\n",
       "  gamma='auto_deprecated', kernel='linear', max_iter=-1, shrinking=True,\n",
       "  tol=0.001, verbose=False)"
      ]
     },
     "execution_count": 259,
     "metadata": {},
     "output_type": "execute_result"
    }
   ],
   "source": [
    "#from sklearn.preprocessing import StandardScaler\n",
    "#from sklearn.svm import SVR\n",
    "#scaler = StandardScaler()\n",
    "#X_norm = scaler.fit_transform(X)\n",
    "# テストデータも標準化\n",
    "#Xtest_norm = scaler.transform(test)\n",
    "#clf1.coef_\n",
    "#red1=clf.predict(test)\n",
    "#test= test.drop([\"keiyaku_pr\",\"tf\",\"pj_no\"],1)\n",
    "#test.shape\n",
    "#X\n",
    "#regr = SVR(kernel=\"linear\")\n",
    "#regr.fit(X_norm, y)"
   ]
  },
  {
   "cell_type": "code",
   "execution_count": 260,
   "metadata": {},
   "outputs": [],
   "source": [
    "#test = test.drop([\"pj_no\",\"tf\",\"keiyaku_pr\"],1)\n",
    "pred =regr.predict(test)\n"
   ]
  },
  {
   "cell_type": "code",
   "execution_count": 261,
   "metadata": {},
   "outputs": [
    {
     "name": "stdout",
     "output_type": "stream",
     "text": [
      "<class 'pandas.core.frame.DataFrame'>\n",
      "RangeIndex: 4273 entries, 0 to 4272\n",
      "Data columns (total 2 columns):\n",
      "0    4273 non-null object\n",
      "1    4273 non-null int64\n",
      "dtypes: int64(1), object(1)\n",
      "memory usage: 66.8+ KB\n"
     ]
    }
   ],
   "source": [
    "sample = pd.read_csv(\"sample_submit.tsv\",delimiter='\\t',header=None)\n",
    "sample.info()\n",
    "sample[1] = pred\n",
    "#sample[1] = red1"
   ]
  },
  {
   "cell_type": "code",
   "execution_count": 262,
   "metadata": {},
   "outputs": [],
   "source": [
    "sample.to_csv(\"submit9.tsv\",index=None,header=None,sep='\\t' )"
   ]
  },
  {
   "cell_type": "code",
   "execution_count": 25,
   "metadata": {},
   "outputs": [],
   "source": [
    "X_train,X_test,y_train,y_test = train_test_split(X,y,test_size=0.2,random_state=123)"
   ]
  },
  {
   "cell_type": "code",
   "execution_count": null,
   "metadata": {},
   "outputs": [],
   "source": [
    "for(name,algorithm) in allalgo:\n",
    "    clf=algorithm()\n",
    "    clf.fit(X_train,y_train)\n",
    "    pred=clf.predict(X_test)\n",
    "    print(name,\"R2 =\" ,r2_score(y_test,pred))"
   ]
  }
 ],
 "metadata": {
  "kernelspec": {
   "display_name": "Python 3",
   "language": "python",
   "name": "python3"
  },
  "language_info": {
   "codemirror_mode": {
    "name": "ipython",
    "version": 3
   },
   "file_extension": ".py",
   "mimetype": "text/x-python",
   "name": "python",
   "nbconvert_exporter": "python",
   "pygments_lexer": "ipython3",
   "version": "3.7.3"
  }
 },
 "nbformat": 4,
 "nbformat_minor": 2
}
